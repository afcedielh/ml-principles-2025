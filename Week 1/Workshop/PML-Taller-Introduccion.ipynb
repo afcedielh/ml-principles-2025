{
 "cells": [
  {
   "cell_type": "markdown",
   "metadata": {
    "deletable": false,
    "editable": false,
    "nbgrader": {
     "cell_type": "markdown",
     "checksum": "07a49986f884d82a180ad7e795116d71",
     "grade": false,
     "grade_id": "cell-a4badc51ed73978f",
     "locked": true,
     "schema_version": 3,
     "solution": false,
     "task": false
    }
   },
   "source": [
    "# Manipulación y visualización de datos\n",
    "\n",
    "En este taller estudiarás los conceptos mostrados en el tutorial de Introducción a librerías de manipulación de datos, ahora con un nuevo conjunto de datos. Específicamente, realizarás los siguientes pasos:\n",
    "\n",
    "1. Cargar un conjunto de datos en formato .csv.\n",
    "2. Analizar los datos y las variables que los conforman.\n",
    "3. Consultar y manipular el conjunto de datos mediante localización por etiquetas y por índices.\n",
    "4. Crear gráficas sencillas con Matplotlib y Seaborn.\n",
    "\n",
    "El conjunto de datos a utilizar es un repositorio de música. Este conjunto representa canciones mediante su popularidad, bailabilidad, volumen, acústica, entre otras propiedades cuantificables.\n",
    "\n",
    "Primero vamos a importar las librerías necesarias:"
   ]
  },
  {
   "cell_type": "code",
   "execution_count": 1,
   "metadata": {
    "deletable": false,
    "editable": false,
    "nbgrader": {
     "cell_type": "code",
     "checksum": "4724d570602ec3405af5a68860d79ec5",
     "grade": false,
     "grade_id": "cell-5720fb7569bb0423",
     "locked": true,
     "schema_version": 3,
     "solution": false,
     "task": false
    }
   },
   "outputs": [],
   "source": [
    "import pandas as pd\n",
    "import matplotlib.pyplot as plt\n",
    "import seaborn as sns\n",
    "\n",
    "import numpy as np\n",
    "\n",
    "from importlib.metadata import version"
   ]
  },
  {
   "cell_type": "markdown",
   "metadata": {
    "deletable": false,
    "editable": false,
    "nbgrader": {
     "cell_type": "markdown",
     "checksum": "b7bd88945b414a39fa14fa96e26ca3e4",
     "grade": false,
     "grade_id": "cell-ac49b1c7fc220a6c",
     "locked": true,
     "schema_version": 3,
     "solution": false,
     "task": false
    }
   },
   "source": [
    "Luego, revisamos la versiones de las librerías. Las librerías se actualizan frecuentemente y es útil saber esta información al momento de consultar documentación sobre las librerías. Además, facilita ejecutar este taller en otros entornos como un computador personal o Google Colab."
   ]
  },
  {
   "cell_type": "code",
   "execution_count": 2,
   "metadata": {
    "deletable": false,
    "editable": false,
    "nbgrader": {
     "cell_type": "code",
     "checksum": "53042c709b3ea8418540aad8e2e16a2a",
     "grade": false,
     "grade_id": "cell-410619aff7aa2908",
     "locked": true,
     "schema_version": 3,
     "solution": false,
     "task": false
    }
   },
   "outputs": [
    {
     "name": "stdout",
     "output_type": "stream",
     "text": [
      "Versión de Pandas: 2.3.1\n",
      "Versión de Seaborn: 0.13.2\n",
      "Versión de Matplotlib: 3.9.4\n",
      "Versión de Numpy: 2.0.2\n"
     ]
    }
   ],
   "source": [
    "print(f\"Versión de Pandas: {version('pandas')}\")\n",
    "print(f\"Versión de Seaborn: {version('seaborn')}\")\n",
    "print(f\"Versión de Matplotlib: {version('matplotlib')}\")\n",
    "print(f\"Versión de Numpy: {version('numpy')}\")"
   ]
  },
  {
   "cell_type": "markdown",
   "metadata": {
    "deletable": false,
    "editable": false,
    "nbgrader": {
     "cell_type": "markdown",
     "checksum": "9054c3dcb703fcd603edf2cbbcb13586",
     "grade": false,
     "grade_id": "cell-631b14e3458933cd",
     "locked": true,
     "schema_version": 3,
     "solution": false,
     "task": false
    }
   },
   "source": [
    "## 1. Carga de datos\n",
    "\n",
    "Iniciaremos con la importación de nuestro conjunto de datos.\n",
    "\n",
    "### Ejercicio 1.1.\n",
    "\n",
    "Utiliza Pandas para importar el archivo que contiene el conjunto de datos de canciones.\n",
    "\n",
    "* La ruta del archivo .csv es: `./data/song_data.csv`, y ya se encuentra en el entorno de Coursera, solo debes importarlo.\n",
    "* La variable resultante debe tener el nombre `data`.\n",
    "\n",
    "Recuerda que usarás esta variable para todas las consultas sobre los datos."
   ]
  },
  {
   "cell_type": "code",
   "execution_count": 3,
   "metadata": {
    "deletable": false,
    "nbgrader": {
     "cell_type": "code",
     "checksum": "747bf17f755d1b101ab5b18229b62b39",
     "grade": false,
     "grade_id": "E11",
     "locked": false,
     "schema_version": 3,
     "solution": true,
     "task": false
    }
   },
   "outputs": [],
   "source": [
    "ruta = './song_data.csv'\n",
    "# Escribe tu código aquí\n",
    "data = pd.read_csv(ruta)"
   ]
  },
  {
   "cell_type": "markdown",
   "metadata": {
    "deletable": false,
    "editable": false,
    "nbgrader": {
     "cell_type": "markdown",
     "checksum": "18a0e965dbe80b3865efb9e0740bbc86",
     "grade": false,
     "grade_id": "cell-fc8654ef009aca6d",
     "locked": true,
     "schema_version": 3,
     "solution": false,
     "task": false
    }
   },
   "source": [
    "Para este y los siguientes ejercicios encontrarás celdas, como la que se muestra a continuación, con pruebas unitarias para evaluar tu respuesta. Estas pruebas verificarán que tu respuesta tenga las dimensiones correctas y el tipo de dato correcto según la pregunta. Si todas las pruebas son exitosas, se ejecutará la línea con la función `print()` y el mensaje que indica que tu respuesta tiene el formato esperado."
   ]
  },
  {
   "cell_type": "code",
   "execution_count": 4,
   "metadata": {
    "deletable": false,
    "editable": false,
    "nbgrader": {
     "cell_type": "code",
     "checksum": "2087113bf79d925ba14311c9d502f5d3",
     "grade": true,
     "grade_id": "E11-tests",
     "locked": true,
     "points": 1,
     "schema_version": 3,
     "solution": false,
     "task": false
    }
   },
   "outputs": [
    {
     "name": "stdout",
     "output_type": "stream",
     "text": [
      "¡Los datos tienen las dimensiones correctas!\n"
     ]
    }
   ],
   "source": [
    "#---------- Celda de Pruebas ----------\n",
    "# La variable \"data\" existe\n",
    "# El resultado es un DataFrame\n",
    "# El resultado tiene las dimensiones correctas\n",
    "#--------------------------------------\n",
    "\n",
    "# Se verifica que la variable está definida\n",
    "assert data is not None, \"Asegúrate de definir la variable data.\"\n",
    "assert ruta is not None, \"Asegúrate de definir la variable con la ruta al archivo.\"\n",
    "\n",
    "# Se verifica que sea un DataFrame\n",
    "assert isinstance(data, pd.DataFrame), \"El resultado es un DataFrame.\"\n",
    "\n",
    "# Se evalúan las dimensiones de la variable data\n",
    "assert data.shape == (18835,15), \"¿Verificaste que la ruta del archivo CSV y el nombre de la variable son correctos?\"\n",
    "print(\"¡Los datos tienen las dimensiones correctas!\")"
   ]
  },
  {
   "cell_type": "markdown",
   "metadata": {
    "deletable": false,
    "editable": false,
    "nbgrader": {
     "cell_type": "markdown",
     "checksum": "1ba729b0b14aac2ada6e8151fb0d0079",
     "grade": false,
     "grade_id": "cell-92ab5b441cdd454a",
     "locked": true,
     "schema_version": 3,
     "solution": false,
     "task": false
    }
   },
   "source": [
    "Para tener una idea del contenido de los datos, vamos a visualizar nuestro DataFrame utilizando `data.head()`:"
   ]
  },
  {
   "cell_type": "code",
   "execution_count": 5,
   "metadata": {
    "deletable": false,
    "editable": false,
    "nbgrader": {
     "cell_type": "code",
     "checksum": "0e956b49bf695931610e56eeaf938a7c",
     "grade": false,
     "grade_id": "cell-169fb3c1dac4a812",
     "locked": true,
     "schema_version": 3,
     "solution": false,
     "task": false
    }
   },
   "outputs": [
    {
     "data": {
      "text/html": [
       "<div>\n",
       "<style scoped>\n",
       "    .dataframe tbody tr th:only-of-type {\n",
       "        vertical-align: middle;\n",
       "    }\n",
       "\n",
       "    .dataframe tbody tr th {\n",
       "        vertical-align: top;\n",
       "    }\n",
       "\n",
       "    .dataframe thead th {\n",
       "        text-align: right;\n",
       "    }\n",
       "</style>\n",
       "<table border=\"1\" class=\"dataframe\">\n",
       "  <thead>\n",
       "    <tr style=\"text-align: right;\">\n",
       "      <th></th>\n",
       "      <th>song_name</th>\n",
       "      <th>song_popularity</th>\n",
       "      <th>song_duration_ms</th>\n",
       "      <th>acousticness</th>\n",
       "      <th>danceability</th>\n",
       "      <th>energy</th>\n",
       "      <th>instrumentalness</th>\n",
       "      <th>key</th>\n",
       "      <th>liveness</th>\n",
       "      <th>loudness</th>\n",
       "      <th>audio_mode</th>\n",
       "      <th>speechiness</th>\n",
       "      <th>tempo</th>\n",
       "      <th>time_signature</th>\n",
       "      <th>audio_valence</th>\n",
       "    </tr>\n",
       "  </thead>\n",
       "  <tbody>\n",
       "    <tr>\n",
       "      <th>0</th>\n",
       "      <td>Boulevard of Broken Dreams</td>\n",
       "      <td>73</td>\n",
       "      <td>262333</td>\n",
       "      <td>0.005520</td>\n",
       "      <td>0.496</td>\n",
       "      <td>0.682</td>\n",
       "      <td>0.000029</td>\n",
       "      <td>8</td>\n",
       "      <td>0.0589</td>\n",
       "      <td>-4.095</td>\n",
       "      <td>1</td>\n",
       "      <td>0.0294</td>\n",
       "      <td>167.060</td>\n",
       "      <td>4</td>\n",
       "      <td>0.474</td>\n",
       "    </tr>\n",
       "    <tr>\n",
       "      <th>1</th>\n",
       "      <td>In The End</td>\n",
       "      <td>66</td>\n",
       "      <td>216933</td>\n",
       "      <td>0.010300</td>\n",
       "      <td>0.542</td>\n",
       "      <td>0.853</td>\n",
       "      <td>0.000000</td>\n",
       "      <td>3</td>\n",
       "      <td>0.1080</td>\n",
       "      <td>-6.407</td>\n",
       "      <td>0</td>\n",
       "      <td>0.0498</td>\n",
       "      <td>105.256</td>\n",
       "      <td>4</td>\n",
       "      <td>0.370</td>\n",
       "    </tr>\n",
       "    <tr>\n",
       "      <th>2</th>\n",
       "      <td>Seven Nation Army</td>\n",
       "      <td>76</td>\n",
       "      <td>231733</td>\n",
       "      <td>0.008170</td>\n",
       "      <td>0.737</td>\n",
       "      <td>0.463</td>\n",
       "      <td>0.447000</td>\n",
       "      <td>0</td>\n",
       "      <td>0.2550</td>\n",
       "      <td>-7.828</td>\n",
       "      <td>1</td>\n",
       "      <td>0.0792</td>\n",
       "      <td>123.881</td>\n",
       "      <td>4</td>\n",
       "      <td>0.324</td>\n",
       "    </tr>\n",
       "    <tr>\n",
       "      <th>3</th>\n",
       "      <td>By The Way</td>\n",
       "      <td>74</td>\n",
       "      <td>216933</td>\n",
       "      <td>0.026400</td>\n",
       "      <td>0.451</td>\n",
       "      <td>0.970</td>\n",
       "      <td>0.003550</td>\n",
       "      <td>0</td>\n",
       "      <td>0.1020</td>\n",
       "      <td>-4.938</td>\n",
       "      <td>1</td>\n",
       "      <td>0.1070</td>\n",
       "      <td>122.444</td>\n",
       "      <td>4</td>\n",
       "      <td>0.198</td>\n",
       "    </tr>\n",
       "    <tr>\n",
       "      <th>4</th>\n",
       "      <td>How You Remind Me</td>\n",
       "      <td>56</td>\n",
       "      <td>223826</td>\n",
       "      <td>0.000954</td>\n",
       "      <td>0.447</td>\n",
       "      <td>0.766</td>\n",
       "      <td>0.000000</td>\n",
       "      <td>10</td>\n",
       "      <td>0.1130</td>\n",
       "      <td>-5.065</td>\n",
       "      <td>1</td>\n",
       "      <td>0.0313</td>\n",
       "      <td>172.011</td>\n",
       "      <td>4</td>\n",
       "      <td>0.574</td>\n",
       "    </tr>\n",
       "  </tbody>\n",
       "</table>\n",
       "</div>"
      ],
      "text/plain": [
       "                    song_name  song_popularity  song_duration_ms  \\\n",
       "0  Boulevard of Broken Dreams               73            262333   \n",
       "1                  In The End               66            216933   \n",
       "2           Seven Nation Army               76            231733   \n",
       "3                  By The Way               74            216933   \n",
       "4           How You Remind Me               56            223826   \n",
       "\n",
       "   acousticness  danceability  energy  instrumentalness  key  liveness  \\\n",
       "0      0.005520         0.496   0.682          0.000029    8    0.0589   \n",
       "1      0.010300         0.542   0.853          0.000000    3    0.1080   \n",
       "2      0.008170         0.737   0.463          0.447000    0    0.2550   \n",
       "3      0.026400         0.451   0.970          0.003550    0    0.1020   \n",
       "4      0.000954         0.447   0.766          0.000000   10    0.1130   \n",
       "\n",
       "   loudness  audio_mode  speechiness    tempo  time_signature  audio_valence  \n",
       "0    -4.095           1       0.0294  167.060               4          0.474  \n",
       "1    -6.407           0       0.0498  105.256               4          0.370  \n",
       "2    -7.828           1       0.0792  123.881               4          0.324  \n",
       "3    -4.938           1       0.1070  122.444               4          0.198  \n",
       "4    -5.065           1       0.0313  172.011               4          0.574  "
      ]
     },
     "execution_count": 5,
     "metadata": {},
     "output_type": "execute_result"
    }
   ],
   "source": [
    "data.head()"
   ]
  },
  {
   "cell_type": "markdown",
   "metadata": {
    "deletable": false,
    "editable": false,
    "nbgrader": {
     "cell_type": "markdown",
     "checksum": "88ebab1d7d4d70d3295912a0e43c51b3",
     "grade": false,
     "grade_id": "cell-7ae072959bf5f5fa",
     "locked": true,
     "schema_version": 3,
     "solution": false,
     "task": false
    }
   },
   "source": [
    "## 2. Descripción de los datos\n",
    "\n",
    "Como vimos anteriormente, también podemos utilizar Pandas para describir los datos utilizando una función.\n",
    "\n",
    "### Ejercicio 2.1.\n",
    "\n",
    "En la siguiente celda, obtén una descripción de los datos utilizando Pandas. Utiliza el resultado para responder a las preguntas que se muestran más adelante.\n",
    "* Define una variable con el nombre `p21` y asígnale el valor correspondiente.\n",
    "* Encontrarás una línea solo con el nombre de la variable. Esta línea se usa para que puedas visualizar tu respuesta, por lo que siempre debe ir al final y no la debes modificar."
   ]
  },
  {
   "cell_type": "code",
   "execution_count": 6,
   "metadata": {
    "deletable": false,
    "nbgrader": {
     "cell_type": "code",
     "checksum": "9d3d7f5df8f169f35c9000bd7353beb8",
     "grade": false,
     "grade_id": "E21",
     "locked": false,
     "schema_version": 3,
     "solution": true,
     "task": false
    }
   },
   "outputs": [],
   "source": [
    "# Escribe tu código aquí\n",
    "\n",
    "p21 = data.describe()"
   ]
  },
  {
   "cell_type": "code",
   "execution_count": 7,
   "metadata": {
    "deletable": false,
    "editable": false,
    "nbgrader": {
     "cell_type": "code",
     "checksum": "6bfd5d8b458135835ad4c4945fca919a",
     "grade": true,
     "grade_id": "E21-tests",
     "locked": true,
     "points": 1,
     "schema_version": 3,
     "solution": false,
     "task": false
    }
   },
   "outputs": [
    {
     "name": "stdout",
     "output_type": "stream",
     "text": [
      "¡Las dimensiones son correctas!\n"
     ]
    }
   ],
   "source": [
    "#---------- Celda de Pruebas ----------\n",
    "# La variable \"p21\" existe\n",
    "# El resultado es un DataFrame\n",
    "# El resultado tiene las dimensiones correctas\n",
    "#--------------------------------------\n",
    "\n",
    "# Se verifica que la variable está definida\n",
    "assert p21 is not None, \"Asegúrate de definir la variable correctamente.\"\n",
    "\n",
    "# Se verifica que sea un DataFrame\n",
    "assert isinstance(p21, pd.DataFrame), \"El resultado es un DataFrame.\"\n",
    "\n",
    "# Se evalúan las dimensiones de la respuesta 2.1\n",
    "assert p21.shape == (8,14), \"Utiliza una función de Pandas para obtener una descripción general de los datos.\"\n",
    "print(\"¡Las dimensiones son correctas!\")"
   ]
  },
  {
   "cell_type": "markdown",
   "metadata": {
    "deletable": false,
    "editable": false,
    "nbgrader": {
     "cell_type": "markdown",
     "checksum": "ed0105eb87782a4535b4563f61e8df41",
     "grade": false,
     "grade_id": "cell-1c81c6d008cc8350",
     "locked": true,
     "schema_version": 3,
     "solution": false,
     "task": false
    }
   },
   "source": [
    "#### Pregunta 2.1.1.\n",
    "\n",
    "¿Qué bailabilidad media tienen las canciones?\n",
    "\n",
    "* La bailabilidad corresponde a la variable `danceability`.\n",
    "* Para responder a la pregunta, define una variable con el nombre `p211` y asígnale el valor correspondiente. (**Ejemplo: `p211 = 1`**)\n",
    "* Encontrarás una línea solo con el nombre de la variable. Esta línea se usa para que puedas visualizar tu respuesta, por lo que siempre debe ir al final y no la debes modificar."
   ]
  },
  {
   "cell_type": "code",
   "execution_count": 8,
   "metadata": {
    "deletable": false,
    "nbgrader": {
     "cell_type": "code",
     "checksum": "e315b13d8ef679379c255fde94de1cde",
     "grade": false,
     "grade_id": "P211",
     "locked": false,
     "schema_version": 3,
     "solution": true,
     "task": false
    }
   },
   "outputs": [],
   "source": [
    "# Escribe tu código aquí\n",
    "\n",
    "p211 = data['danceability'].mean()"
   ]
  },
  {
   "cell_type": "code",
   "execution_count": 9,
   "metadata": {
    "deletable": false,
    "editable": false,
    "nbgrader": {
     "cell_type": "code",
     "checksum": "eab563db1ca032a92ddfda7d87111754",
     "grade": true,
     "grade_id": "P211-tests",
     "locked": true,
     "points": 1,
     "schema_version": 3,
     "solution": false,
     "task": false
    }
   },
   "outputs": [
    {
     "name": "stdout",
     "output_type": "stream",
     "text": [
      "¡El tipo y rango de la respuesta son correctos!\n"
     ]
    }
   ],
   "source": [
    "#---------- Celda de Pruebas ----------\n",
    "# La variable \"p211\" existe\n",
    "# El resultado es un número de tipo \"float\"\n",
    "# El resultado se encuentra en el rango [0,1]\n",
    "#--------------------------------------\n",
    "\n",
    "# Se verifica que la variable está definida\n",
    "assert p211 is not None, \"Asegúrate de definir la variable correctamente.\"\n",
    "\n",
    "# Se evalúa el tipo de dato\n",
    "assert type(p211) == float or type(p211) == np.float64, \"Recuerda que tu respuesta debe ser un número.\"\n",
    "\n",
    "# Se evalúa el rango de respuesta\n",
    "assert (p211 >= 0 and p211 <= 1), \"Verifica los límites de la variable que aparecen en el ejercicio 2.1.\"\n",
    "print(\"¡El tipo y rango de la respuesta son correctos!\")"
   ]
  },
  {
   "cell_type": "markdown",
   "metadata": {
    "deletable": false,
    "editable": false,
    "nbgrader": {
     "cell_type": "markdown",
     "checksum": "50c4fb09b558bb3e0073bc035700dc95",
     "grade": false,
     "grade_id": "cell-4553da938fc9b6f2",
     "locked": true,
     "schema_version": 3,
     "solution": false,
     "task": false
    }
   },
   "source": [
    "#### Pregunta 2.1.2.\n",
    "\n",
    "¿Cuál es la puntuación máxima de popularidad?\n",
    "\n",
    "* Para responder a la pregunta, define una variable con el nombre `p212` y asígnale el valor correspondiente. (**Ejemplo: `p212 = 10`**)\n",
    "* Encontrarás una línea solo con el nombre de la variable. Esta línea se usa para que puedas visualizar tu respuesta, por lo que siempre debe ir al final y no la debes modificar."
   ]
  },
  {
   "cell_type": "code",
   "execution_count": 10,
   "metadata": {
    "deletable": false,
    "nbgrader": {
     "cell_type": "code",
     "checksum": "3d857f9a371d8dbaad146ea2fb25318a",
     "grade": false,
     "grade_id": "P212",
     "locked": false,
     "schema_version": 3,
     "solution": true,
     "task": false
    }
   },
   "outputs": [],
   "source": [
    "# Escribe tu código aquí\n",
    "\n",
    "p212 = data['song_popularity'].max()"
   ]
  },
  {
   "cell_type": "code",
   "execution_count": 11,
   "metadata": {
    "deletable": false,
    "editable": false,
    "nbgrader": {
     "cell_type": "code",
     "checksum": "9e2cf5f210dd377713490e8d15797738",
     "grade": true,
     "grade_id": "P212-tests",
     "locked": true,
     "points": 1,
     "schema_version": 3,
     "solution": false,
     "task": false
    }
   },
   "outputs": [
    {
     "name": "stdout",
     "output_type": "stream",
     "text": [
      "¡El tipo de dato y el rango de la respuesta son correctos!\n"
     ]
    }
   ],
   "source": [
    "#---------- Celda de Pruebas ----------\n",
    "# La variable \"p212\" existe\n",
    "# El resultado es un número entero\n",
    "# El resultado está en el rango [0,100]\n",
    "#--------------------------------------\n",
    "\n",
    "# Se verifica que la variable está definida\n",
    "assert p212 is not None, \"Asegúrate de definir la variable correctamente.\"\n",
    "\n",
    "# Se evalúa el tipo de dato\n",
    "assert type(p212) == int or type(p212) == np.int64, \"Recuerda que tu respuesta debe ser un número entero.\"\n",
    "\n",
    "# Se evalúa el rango de respuesta\n",
    "assert (p212 >= 0 and p212 <= 100), \"Verifica los límites de la variable que aparecen en el ejercicio 2.1.\"\n",
    "print(\"¡El tipo de dato y el rango de la respuesta son correctos!\")"
   ]
  },
  {
   "cell_type": "markdown",
   "metadata": {
    "deletable": false,
    "editable": false,
    "nbgrader": {
     "cell_type": "markdown",
     "checksum": "73e1af17916e29002b656bae7cbf2138",
     "grade": false,
     "grade_id": "cell-ad3a6b223f99b01e",
     "locked": true,
     "schema_version": 3,
     "solution": false,
     "task": false
    }
   },
   "source": [
    "#### Pregunta 2.1.3.\n",
    "\n",
    "¿Cuál es el valor de energía mínima?\n",
    "\n",
    "* Para responder a la pregunta, define una variable con el nombre `p213` y asígnale el valor correspondiente. (**Ejemplo: `p213 = 0.5`**)\n",
    "* Encontrarás una línea solo con el nombre de la variable. Esta línea se usa para que puedas visualizar tu respuesta, por lo que siempre debe ir al final y no la debes modificar."
   ]
  },
  {
   "cell_type": "code",
   "execution_count": 12,
   "metadata": {
    "deletable": false,
    "nbgrader": {
     "cell_type": "code",
     "checksum": "f6758ae5d4f634827bfbddf379b7606b",
     "grade": false,
     "grade_id": "P213",
     "locked": false,
     "schema_version": 3,
     "solution": true,
     "task": false
    }
   },
   "outputs": [],
   "source": [
    "# Escribe tu código aquí\n",
    "\n",
    "p213 = data['energy'].min()"
   ]
  },
  {
   "cell_type": "code",
   "execution_count": 13,
   "metadata": {
    "deletable": false,
    "editable": false,
    "nbgrader": {
     "cell_type": "code",
     "checksum": "835894ab6599678edf5efe62cd0abeed",
     "grade": true,
     "grade_id": "P213-tests",
     "locked": true,
     "points": 1,
     "schema_version": 3,
     "solution": false,
     "task": false
    }
   },
   "outputs": [
    {
     "name": "stdout",
     "output_type": "stream",
     "text": [
      "¡El tipo y rango de la respuesta son correctos!\n"
     ]
    }
   ],
   "source": [
    "#---------- Celda de Pruebas ----------\n",
    "# La variable \"p213\" existe\n",
    "# El resultado es un número de tipo \"float\"\n",
    "# El resultado está en el rango [0,1]\n",
    "#--------------------------------------\n",
    "\n",
    "# Se verifica que la variable está definida\n",
    "assert p213 is not None, \"Asegúrate de definir la variable correctamente.\"\n",
    "\n",
    "# Se evalúa el tipo de dato\n",
    "assert type(p213) == float or type(p213) == np.float64, \"Recuerda que tu respuesta debe ser un número.\"\n",
    "\n",
    "# Se evalúa el rango de respuesta\n",
    "assert (p213 >= 0 and p213 <= 1), \"Verifica los límites de la variable que aparecen en el ejercicio 2.1.\"\n",
    "print(\"¡El tipo y rango de la respuesta son correctos!\")"
   ]
  },
  {
   "cell_type": "markdown",
   "metadata": {
    "deletable": false,
    "editable": false,
    "nbgrader": {
     "cell_type": "markdown",
     "checksum": "e4183006ee23ab01004adadca873ffbc",
     "grade": false,
     "grade_id": "cell-22a6c9fb3b390a71",
     "locked": true,
     "schema_version": 3,
     "solution": false,
     "task": false
    }
   },
   "source": [
    "### Ejercicio 2.2.\n",
    "\n",
    "#### Pregunta 2.2.1.\n",
    "\n",
    "Primero, utiliza la siguiente celda para obtener un conteo de la cantidad de apariciones de cada puntuación de popularidad.\n",
    "\n",
    "* Define una variable con el nombre `p221` y asígnale la consulta correspondiente (`p221 = <<Consulta>>`).\n",
    "* Encontrarás una línea solo con el nombre de la variable. Esta línea se usa para que puedas visualizar tu respuesta, por lo que siempre debe ir al final y no la debes modificar."
   ]
  },
  {
   "cell_type": "code",
   "execution_count": 15,
   "metadata": {
    "deletable": false,
    "nbgrader": {
     "cell_type": "code",
     "checksum": "b69ebfbe4628b0e64f3326a3c96b9743",
     "grade": false,
     "grade_id": "P221",
     "locked": false,
     "schema_version": 3,
     "solution": true,
     "task": false
    }
   },
   "outputs": [],
   "source": [
    "# Escribe tu código aquí\n",
    "\n",
    "p221 = data['song_popularity'].value_counts()"
   ]
  },
  {
   "cell_type": "code",
   "execution_count": 16,
   "metadata": {
    "deletable": false,
    "editable": false,
    "nbgrader": {
     "cell_type": "code",
     "checksum": "42c9c3fd867d1e19b029826ac1650665",
     "grade": true,
     "grade_id": "P221-tests",
     "locked": true,
     "points": 1,
     "schema_version": 3,
     "solution": false,
     "task": false
    }
   },
   "outputs": [
    {
     "name": "stdout",
     "output_type": "stream",
     "text": [
      "¡La respuesta tiene las dimensiones correctas!\n"
     ]
    }
   ],
   "source": [
    "#---------- Celda de Pruebas ----------\n",
    "# La variable \"p221\" existe\n",
    "# El resultado tiene las dimensiones correctas\n",
    "#--------------------------------------\n",
    "\n",
    "# Se verifica que la variable está definida\n",
    "assert p221 is not None, \"Asegúrate de definir la variable correctamente.\"\n",
    "\n",
    "# Se verifican las dimensiones de la variable \"p221\"\n",
    "assert p221.shape == (101,), \"Pandas ofrece una función para el conteo de datos, que recibe como argumento una consulta sobre el DataFrame. Esta consulta tiene que usar la variable \\'song_popularity\\'\"\n",
    "print(\"¡La respuesta tiene las dimensiones correctas!\")"
   ]
  },
  {
   "cell_type": "markdown",
   "metadata": {
    "deletable": false,
    "editable": false,
    "nbgrader": {
     "cell_type": "markdown",
     "checksum": "3136a5d013d3650df54aab7080f41d6d",
     "grade": false,
     "grade_id": "cell-13a3f372264adb1c",
     "locked": true,
     "schema_version": 3,
     "solution": false,
     "task": false
    }
   },
   "source": [
    "#### Pregunta 2.2.2.\n",
    "\n",
    "Utiliza la información obtenida para responder: ¿Cuántas canciones tienen la máxima puntuación?\n",
    "\n",
    "* Para responder a la pregunta, define una variable con el nombre `p222` y asígnale el valor correspondiente. (**Ejemplo: `p222 = 50`**)\n",
    "* Encontrarás una línea solo con el nombre de la variable. Esta línea se usa para que puedas visualizar tu respuesta, por lo que siempre debe ir al final y no la debes modificar."
   ]
  },
  {
   "cell_type": "code",
   "execution_count": null,
   "metadata": {
    "deletable": false,
    "nbgrader": {
     "cell_type": "code",
     "checksum": "cd36fb025ec97c3935508f1428b28816",
     "grade": false,
     "grade_id": "P22",
     "locked": false,
     "schema_version": 3,
     "solution": true,
     "task": false
    }
   },
   "outputs": [
    {
     "name": "stdout",
     "output_type": "stream",
     "text": [
      "100\n"
     ]
    }
   ],
   "source": [
    "# Escribe tu código aquí\n",
    "max = data['song_popularity'].max()\n",
    "p222 = data[data['song_popularity'] == max].shape[0]"
   ]
  },
  {
   "cell_type": "code",
   "execution_count": 21,
   "metadata": {
    "deletable": false,
    "editable": false,
    "nbgrader": {
     "cell_type": "code",
     "checksum": "d53ba016ce769de0508a8cf98f9cb73c",
     "grade": true,
     "grade_id": "P22-tests",
     "locked": true,
     "points": 1,
     "schema_version": 3,
     "solution": false,
     "task": false
    }
   },
   "outputs": [
    {
     "name": "stdout",
     "output_type": "stream",
     "text": [
      "¡La respuesta tiene el tipo y rango correcto!\n"
     ]
    }
   ],
   "source": [
    "#---------- Celda de Pruebas ----------\n",
    "# La variable \"p22\" existe\n",
    "# El resultado es un número entero\n",
    "# El resultado está en el rango [0,18835]\n",
    "#--------------------------------------\n",
    "\n",
    "# Se verifica que la variable está definida\n",
    "assert p222 is not None, \"Asegúrate de definir la variable correctamente.\"\n",
    "\n",
    "# Se evalúa el tipo de dato\n",
    "assert type(p222) == int or type(p222) == np.int64, \"Recuerda que tu respuesta debe ser un número entero.\"\n",
    "\n",
    "# Se evalúa el rango de respuesta\n",
    "assert (p222 >= 0 and p222 <= 18835), \"La respuesta debe ser menor o igual al total de datos.\"\n",
    "print(\"¡La respuesta tiene el tipo y rango correcto!\")"
   ]
  },
  {
   "cell_type": "markdown",
   "metadata": {
    "deletable": false,
    "editable": false,
    "nbgrader": {
     "cell_type": "markdown",
     "checksum": "7056f70927c98b461151ba635ae7d41c",
     "grade": false,
     "grade_id": "cell-d42d837b18f6305c",
     "locked": true,
     "schema_version": 3,
     "solution": false,
     "task": false
    }
   },
   "source": [
    "## 3. Consulta y modificación de datos\n",
    "\n",
    "Después de visualizar y analizar los datos de forma general, realiza algunas consultas sobre ellos:\n",
    "\n",
    "### Ejercicio 3.1.\n",
    "\n",
    "Utiliza la localización por índices para obtener el dato con índice 300.\n",
    "\n",
    "* Define una variable con el nombre `p31` y asígnale la consulta (`p31 = <<Consulta>>`). Esto permitirá que puedas acceder al resultado de la consulta en cualquier momento (simplemente colocando el nombre de la variable).\n",
    "* Encontrarás una línea solo con el nombre de la variable. Esta línea se usa para que puedas visualizar tu respuesta, por lo que siempre debe ir al final y no la debes modificar."
   ]
  },
  {
   "cell_type": "code",
   "execution_count": null,
   "metadata": {
    "deletable": false,
    "nbgrader": {
     "cell_type": "code",
     "checksum": "ecd6f65c21df0cafa4ab7070121216cc",
     "grade": false,
     "grade_id": "P31",
     "locked": false,
     "schema_version": 3,
     "solution": true,
     "task": false
    }
   },
   "outputs": [],
   "source": [
    "# Escribe tu código aquí\n",
    "p31 = data.iloc[300]\n"
   ]
  },
  {
   "cell_type": "code",
   "execution_count": 28,
   "metadata": {
    "deletable": false,
    "editable": false,
    "nbgrader": {
     "cell_type": "code",
     "checksum": "d751c5475e00ee8feee7b73743ab3657",
     "grade": true,
     "grade_id": "P31-tests",
     "locked": true,
     "points": 1,
     "schema_version": 3,
     "solution": false,
     "task": false
    }
   },
   "outputs": [
    {
     "name": "stdout",
     "output_type": "stream",
     "text": [
      "¡La respuesta tiene las dimensiones correctas!\n"
     ]
    }
   ],
   "source": [
    "#---------- Celda de Pruebas ----------\n",
    "# La variable \"p31\" existe\n",
    "# El resultado es una Serie de Pandas\n",
    "# El resultado tiene las dimensiones correctas\n",
    "#--------------------------------------\n",
    "\n",
    "# Se verifica que la variable está definida\n",
    "assert p31 is not None, \"Asegúrate de definir la variable correctamente.\"\n",
    "\n",
    "# Se verifica que sea una Serie\n",
    "assert isinstance(p31, pd.Series), \"El resultado es una Serie de Pandas, resultado de una consulta.\"\n",
    "\n",
    "# Se verifican las dimensiones de la respuesta\n",
    "assert p31.shape == (15,), \"Recuerda utilizar 300 como argumento de tu consulta.\"\n",
    "print(\"¡La respuesta tiene las dimensiones correctas!\")"
   ]
  },
  {
   "cell_type": "markdown",
   "metadata": {
    "deletable": false,
    "editable": false,
    "nbgrader": {
     "cell_type": "markdown",
     "checksum": "82161c972a147bff3bac5d188f0bfe2d",
     "grade": false,
     "grade_id": "cell-b2323a7dee1ceb58",
     "locked": true,
     "schema_version": 3,
     "solution": false,
     "task": false
    }
   },
   "source": [
    "### Ejercicio 3.2.\n",
    "\n",
    "Obtén las canciones en el intervalo definido por los índices 400 y 500.\n",
    "\n",
    "* Define una variable con el nombre `p32` y asígnale la consulta (`p32 = <<Consulta>>`).\n",
    "* Encontrarás una línea solo con el nombre de la variable. Esta línea se usa para que puedas visualizar tu respuesta, por lo que siempre debe ir al final y no la debes modificar."
   ]
  },
  {
   "cell_type": "code",
   "execution_count": 31,
   "metadata": {
    "deletable": false,
    "nbgrader": {
     "cell_type": "code",
     "checksum": "3a6010b06a247e9a3d7a8b39938f11a2",
     "grade": false,
     "grade_id": "P32",
     "locked": false,
     "schema_version": 3,
     "solution": true,
     "task": false
    }
   },
   "outputs": [],
   "source": [
    "# Escribe tu código aquí\n",
    "\n",
    "p32 = data.iloc[400: 500]"
   ]
  },
  {
   "cell_type": "code",
   "execution_count": 32,
   "metadata": {
    "deletable": false,
    "editable": false,
    "nbgrader": {
     "cell_type": "code",
     "checksum": "498cda9a3501a26a7e330b0ed58a5139",
     "grade": true,
     "grade_id": "P32-tests",
     "locked": true,
     "points": 1,
     "schema_version": 3,
     "solution": false,
     "task": false
    }
   },
   "outputs": [
    {
     "name": "stdout",
     "output_type": "stream",
     "text": [
      "¡La respuesta es un DataFrame con las dimensiones correctas!\n"
     ]
    }
   ],
   "source": [
    "#---------- Celda de Pruebas ----------\n",
    "# La variable \"p32\" existe\n",
    "# El resultado es un DataFrame\n",
    "# El resultado tiene las dimensiones correctas\n",
    "#--------------------------------------\n",
    "\n",
    "# Se verifica que la variable está definida\n",
    "assert p32 is not None, \"Asegúrate de definir la variable correctamente.\"\n",
    "\n",
    "# Se verifica que sea un DataFrame\n",
    "assert isinstance(p32, pd.DataFrame), \"El resultado es un DataFrame con 100 filas.\"\n",
    "\n",
    "# Se evalúan las dimensiones de la respuesta\n",
    "assert p32.shape == (100, 15), \"Recuerda usar el intervalo 400:500.\"\n",
    "print(\"¡La respuesta es un DataFrame con las dimensiones correctas!\")"
   ]
  },
  {
   "cell_type": "markdown",
   "metadata": {
    "deletable": false,
    "editable": false,
    "nbgrader": {
     "cell_type": "markdown",
     "checksum": "ddecd650f402e66852cb2db00e251f16",
     "grade": false,
     "grade_id": "cell-041d540c4a39b482",
     "locked": true,
     "schema_version": 3,
     "solution": false,
     "task": false
    }
   },
   "source": [
    "### Ejercicio 3.3.\n",
    "\n",
    "Utiliza la localización por etiquetas para obtener la duración de la canción con índice 1000.\n",
    "\n",
    "* Define una variable con el nombre `p33` y asígnale la consulta (`p33 = <<Consulta>>`). El resultado de esta consulta debe ser un número.\n",
    "* Encontrarás una línea solo con el nombre de la variable. Esta línea se usa para que puedas visualizar tu respuesta, por lo que siempre debe ir al final y no la debes modificar."
   ]
  },
  {
   "cell_type": "code",
   "execution_count": 40,
   "metadata": {
    "deletable": false,
    "nbgrader": {
     "cell_type": "code",
     "checksum": "a7d997bf6b0402524850125ff39eb7aa",
     "grade": false,
     "grade_id": "P33",
     "locked": false,
     "schema_version": 3,
     "solution": true,
     "task": false
    }
   },
   "outputs": [],
   "source": [
    "# Escribe tu código aquí\n",
    "\n",
    "p33 = data.loc[1000, 'song_duration_ms']"
   ]
  },
  {
   "cell_type": "code",
   "execution_count": 41,
   "metadata": {
    "deletable": false,
    "editable": false,
    "nbgrader": {
     "cell_type": "code",
     "checksum": "6c45bc465f68f7c9c82724a24465067c",
     "grade": true,
     "grade_id": "P33-tests",
     "locked": true,
     "points": 1,
     "schema_version": 3,
     "solution": false,
     "task": false
    }
   },
   "outputs": [
    {
     "name": "stdout",
     "output_type": "stream",
     "text": [
      "¡La respuesta tiene el rango correcto!\n"
     ]
    }
   ],
   "source": [
    "#---------- Celda de Pruebas ----------\n",
    "# La variable \"p33\" existe\n",
    "# El resultado es un número entero\n",
    "# El resultado está en el rango [0,1799346]\n",
    "#--------------------------------------\n",
    "\n",
    "# Se verifica que la variable está definida\n",
    "assert p33 is not None, \"Asegúrate de definir la variable correctamente.\"\n",
    "\n",
    "# Se evalúa el tipo de dato\n",
    "assert type(p33) == np.int64 or type(p33) == int, \"En este caso tienes que localizar una celda del DataFrame. Es decir, tienes que consultar una fila (índice) y una columna (variable).\"\n",
    "\n",
    "# Se evalúa el rango de respuesta\n",
    "assert (p33 >= 0 and p33 <= 1799346), \"Verifica los límites de la variable \\'song_duration_ms\\' que aparecen en el ejercicio 2.1.\"\n",
    "print(\"¡La respuesta tiene el rango correcto!\")"
   ]
  },
  {
   "cell_type": "markdown",
   "metadata": {
    "deletable": false,
    "editable": false,
    "nbgrader": {
     "cell_type": "markdown",
     "checksum": "c95fb194c49dc9407d06f55321acab9d",
     "grade": false,
     "grade_id": "cell-a5f311ed3e4261f8",
     "locked": true,
     "schema_version": 3,
     "solution": false,
     "task": false
    }
   },
   "source": [
    "### Ejercicio 3.4.\n",
    "\n",
    "Filtra el DataFrame para obtener todas las canciones con popularidad mayor a 95.\n",
    "\n",
    "* Define una variable con el nombre `p34` y asígnale la consulta (`p34 = <<Consulta>>`). En este caso, `p34` es un nuevo DataFrame.\n",
    "* Encontrarás una línea solo con el nombre de la variable. Esta línea se usa para que puedas visualizar tu respuesta, por lo que siempre debe ir al final y no la debes modificar."
   ]
  },
  {
   "cell_type": "code",
   "execution_count": 48,
   "metadata": {
    "deletable": false,
    "nbgrader": {
     "cell_type": "code",
     "checksum": "cbe9445b998133adaf88c64fc4f02be7",
     "grade": false,
     "grade_id": "P34",
     "locked": false,
     "schema_version": 3,
     "solution": true,
     "task": false
    }
   },
   "outputs": [],
   "source": [
    "# Escribe tu código aquí\n",
    "\n",
    "p34 = data.loc[data.loc[:,'song_popularity'] > 95]"
   ]
  },
  {
   "cell_type": "code",
   "execution_count": 47,
   "metadata": {
    "deletable": false,
    "editable": false,
    "nbgrader": {
     "cell_type": "code",
     "checksum": "7ff109ac513ea5d83d24b4332c4ab74c",
     "grade": true,
     "grade_id": "P34-tests",
     "locked": true,
     "points": 1,
     "schema_version": 3,
     "solution": false,
     "task": false
    }
   },
   "outputs": [
    {
     "name": "stdout",
     "output_type": "stream",
     "text": [
      "¡La respuesta es un DataFrame con las dimensiones correctas!\n"
     ]
    }
   ],
   "source": [
    "#---------- Celda de Pruebas ----------\n",
    "# La variable \"p34\" existe\n",
    "# El resultado es un DataFrame\n",
    "# El resultado tiene las dimensiones correctas\n",
    "#--------------------------------------\n",
    "\n",
    "# Se verifica que la variable está definida\n",
    "assert p34 is not None, \"Asegúrate de definir la variable correctamente.\"\n",
    "\n",
    "# Se verifica que sea un DataFrame\n",
    "assert isinstance(p34, pd.DataFrame), \"El resultado es un DataFrame con 164 filas.\"\n",
    "\n",
    "# Se evalúan las dimensiones de la respuesta\n",
    "assert p34.shape == (164, 15), \"Utiliza doble localización por etiquetas para evaluar la condición y filtrar el DataFrame\"\n",
    "print(\"¡La respuesta es un DataFrame con las dimensiones correctas!\")"
   ]
  },
  {
   "cell_type": "markdown",
   "metadata": {
    "deletable": false,
    "editable": false,
    "nbgrader": {
     "cell_type": "markdown",
     "checksum": "40be7179d19ccaeaf46943140b9f361c",
     "grade": false,
     "grade_id": "cell-e24cf20c6aeb2063",
     "locked": true,
     "schema_version": 3,
     "solution": false,
     "task": false
    }
   },
   "source": [
    "## 4. Visualización de datos\n",
    "\n",
    "Finalmente, vamos a utilizar tres tipos de gráficos para visualizar algunas características del conjunto de datos.\n",
    "\n",
    "### Ejercicio 4.1.\n",
    "\n",
    "Completa el siguiente código para generar una gráfica de distribución de popularidad. En el eje `x` deben estar los valores posibles de popularidad, y en el eje `y` debe estar la cantidad de apariciones de cada popularidad.\n",
    "\n",
    "A continuación puedes observar cómo se debe ver la gráfica resultante:\n",
    "\n",
    "![Gráfica E4.1](./img/41.png \"Gráfica resultante para E4.1.\")\n",
    "\n",
    "**Nota:** `% matplotlib inline` es un llamado a una función que permite que las gráficas se muestren correctamente en Jupyter Notebooks. Si en algún momento no aparecen tus gráficas, puedes regresar a esta celda, ejecutarla nuevamente y volver al punto en el que estabas."
   ]
  },
  {
   "cell_type": "code",
   "execution_count": 49,
   "metadata": {
    "deletable": false,
    "editable": false,
    "nbgrader": {
     "cell_type": "code",
     "checksum": "a2da264c831701f4982f7ea95c2bb56b",
     "grade": false,
     "grade_id": "cell-758d376a1e20b2e5",
     "locked": true,
     "schema_version": 3,
     "solution": false,
     "task": false
    }
   },
   "outputs": [],
   "source": [
    "%matplotlib inline"
   ]
  },
  {
   "cell_type": "code",
   "execution_count": 51,
   "metadata": {
    "deletable": false,
    "nbgrader": {
     "cell_type": "code",
     "checksum": "a4840405eb7affbd245017f5f3f50574",
     "grade": false,
     "grade_id": "E41",
     "locked": false,
     "schema_version": 3,
     "solution": true,
     "task": false
    }
   },
   "outputs": [
    {
     "data": {
      "image/png": "[encoded data removed]",
      "text/plain": [
       "<Figure size 1600x600 with 1 Axes>"
      ]
     },
     "metadata": {},
     "output_type": "display_data"
    }
   ],
   "source": [
    "plt.figure(figsize=(16,6))\n",
    "\n",
    "# Para resolver este punto, define dos variables x, y.\n",
    "# Cada variable debe estar igualada a una consulta:\n",
    "#   x = data[...].funcion()\n",
    "#   y = data[...].funcion()\n",
    "# Puedes usar localización por etiquetas o por índices, pero no es necesario.\n",
    "# Igualmente, puedes usar la misma consulta para las dos variables, cambiando el atributo correspondiente\n",
    "# Escribe tu código aquí\n",
    "plot_data = data['song_popularity'].value_counts()\n",
    "x = plot_data.index\n",
    "y = plot_data.values\n",
    "plt.bar(x,y)\n",
    "plt.title('Distribución de Popularidad de Canciones')\n",
    "plt.xticks(rotation=90)\n",
    "\n",
    "plt.show()"
   ]
  },
  {
   "cell_type": "code",
   "execution_count": 52,
   "metadata": {
    "deletable": false,
    "editable": false,
    "nbgrader": {
     "cell_type": "code",
     "checksum": "6f61f4b7e38b3fe4d2021f8a85bb3cb1",
     "grade": true,
     "grade_id": "E41-tests",
     "locked": true,
     "points": 1,
     "schema_version": 3,
     "solution": false,
     "task": false
    }
   },
   "outputs": [
    {
     "name": "stdout",
     "output_type": "stream",
     "text": [
      "¡Las variables tienen las dimensiones correctas!\n"
     ]
    }
   ],
   "source": [
    "#---------- Celda de Pruebas ----------\n",
    "# La variables \"x\", \"y\" existen\n",
    "# Las variables tienen las dimensiones correctas\n",
    "#--------------------------------------\n",
    "\n",
    "# Se verifica que las variables están definidas\n",
    "assert x is not None, \"Asegúrate de definir la variable correctamente.\"\n",
    "assert y is not None, \"Asegúrate de definir la variable correctamente.\"\n",
    "\n",
    "# Se evalúan las dimensiones de la variable X\n",
    "assert x.shape == (101,), \"El eje x corresponde a los valores posibles de la popularidad. Encuentra una función que retorne los valores únicos de una variable.\"\n",
    "\n",
    "# Se evalúan las dimensiones de la variable Y\n",
    "assert y.shape == (101,), \"El eje y corresponde a la cantidad de apariciones de un valor. Encuentra una función que cuente esas apariciones.\"\n",
    "print(\"¡Las variables tienen las dimensiones correctas!\")"
   ]
  },
  {
   "cell_type": "markdown",
   "metadata": {
    "deletable": false,
    "editable": false,
    "nbgrader": {
     "cell_type": "markdown",
     "checksum": "672346788c32bb0a2fde65d009f66e70",
     "grade": false,
     "grade_id": "cell-fe7bf6f353d9f598",
     "locked": true,
     "schema_version": 3,
     "solution": false,
     "task": false
    }
   },
   "source": [
    "### Ejercicio 4.2.\n",
    "\n",
    "Completa el siguiente código, usando Seaborn, para generar un histograma de la energía de las canciones (variable `energy`).\n",
    "\n",
    "La gráfica resultante se debe ver de la siguiente manera:\n",
    "\n",
    "![Gráfica E4.2](./img/42.png \"Gráfica resultante para E4.2.\")"
   ]
  },
  {
   "cell_type": "code",
   "execution_count": 53,
   "metadata": {
    "deletable": false,
    "nbgrader": {
     "cell_type": "code",
     "checksum": "facc17dcbd82578774f0f83adc1741f7",
     "grade": false,
     "grade_id": "E42",
     "locked": false,
     "schema_version": 3,
     "solution": true,
     "task": false
    }
   },
   "outputs": [
    {
     "name": "stderr",
     "output_type": "stream",
     "text": [
      "/var/folders/b0/lqby61zj2pndsyck5rr_z0ww0000gn/T/ipykernel_60926/543985061.py:13: UserWarning: \n",
      "\n",
      "`distplot` is a deprecated function and will be removed in seaborn v0.14.0.\n",
      "\n",
      "Please adapt your code to use either `displot` (a figure-level function with\n",
      "similar flexibility) or `histplot` (an axes-level function for histograms).\n",
      "\n",
      "For a guide to updating your code to use the new functions, please see\n",
      "https://gist.github.com/mwaskom/de44147ed2974457ad6372750bbe5751\n",
      "\n",
      "  sns.distplot(x, kde=True)\n"
     ]
    },
    {
     "data": {
      "text/plain": [
       "<Axes: xlabel='energy', ylabel='Density'>"
      ]
     },
     "execution_count": 53,
     "metadata": {},
     "output_type": "execute_result"
    },
    {
     "data": {
      "image/png": "[encoded data removed]",
      "text/plain": [
       "<Figure size 1600x600 with 1 Axes>"
      ]
     },
     "metadata": {},
     "output_type": "display_data"
    }
   ],
   "source": [
    "plt.figure(figsize=(16,6))\n",
    "plt.tight_layout()\n",
    "\n",
    "# Define una sola variable x.\n",
    "# La variable debe estar igualada a una consulta:\n",
    "#   x = data[...]\n",
    "\n",
    "# Nota: en este punto estás reasignando (sobreescribiendo) la variable x del punto anterior.\n",
    "#       En este caso no es importante, pero siempre debes tenerlo en cuenta.\n",
    "# Escribe tu código aquí\n",
    "x = data['energy']\n",
    "\n",
    "sns.distplot(x, kde=True)"
   ]
  },
  {
   "cell_type": "code",
   "execution_count": null,
   "metadata": {
    "deletable": false,
    "editable": false,
    "nbgrader": {
     "cell_type": "code",
     "checksum": "2cd482a9aabfe73163463201207bfdbc",
     "grade": true,
     "grade_id": "E42-tests",
     "locked": true,
     "points": 1,
     "schema_version": 3,
     "solution": false,
     "task": false
    }
   },
   "outputs": [],
   "source": [
    "#---------- Celda de Pruebas ----------\n",
    "# La variable \"x\" existe\n",
    "# El resultado es una Serie de Pandas\n",
    "# El resultado tiene las dimensiones correctas\n",
    "#--------------------------------------\n",
    "\n",
    "# Se verifica que la variable está definida\n",
    "assert x is not None, \"Asegúrate de definir la variable correctamente.\"\n",
    "\n",
    "# Se verifica que sea una Serie\n",
    "assert isinstance(x, pd.Series), \"El resultado es una Serie de Pandas, resultado de una consulta.\"\n",
    "\n",
    "# Se evalúan las dimensiones de la variable X\n",
    "assert x.shape == (18835,), \"Debes consultar la columna de la variable \\'energy\\'.\"\n",
    "print(\"¡Las dimensiones de X son correctas!\")"
   ]
  },
  {
   "cell_type": "markdown",
   "metadata": {
    "deletable": false,
    "editable": false,
    "nbgrader": {
     "cell_type": "markdown",
     "checksum": "4021ad5220a16a2c432a3e22eeaae7f8",
     "grade": false,
     "grade_id": "cell-a05ecc8a698a4ef2",
     "locked": true,
     "schema_version": 3,
     "solution": false,
     "task": false
    }
   },
   "source": [
    "### Ejercicio 4.3.\n",
    "\n",
    "Completa el siguiente código para visualizar la relación entre energía (variable `energy`) y volumen (variable `loudness`). \n",
    "* Este gráfico debe tener los valores de energía en el eje `x`, y los valores de volumen en el eje `y`. \n",
    "* La forma de las marcas utilizadas debe ser de estrella.\n",
    "\n",
    "El resultado de este ejercicio debe ser como se muestra a continuación:\n",
    "\n",
    "![Gráfica E4.3](./img/43.png \"Gráfica resultante para E4.3.\")"
   ]
  },
  {
   "cell_type": "code",
   "execution_count": 60,
   "metadata": {
    "deletable": false,
    "nbgrader": {
     "cell_type": "code",
     "checksum": "e688995cf45c8c2e34101c82b12eb23a",
     "grade": false,
     "grade_id": "E43",
     "locked": false,
     "schema_version": 3,
     "solution": true,
     "task": false
    }
   },
   "outputs": [
    {
     "data": {
      "image/png": "[encoded data removed]",
      "text/plain": [
       "<Figure size 1000x1000 with 1 Axes>"
      ]
     },
     "metadata": {},
     "output_type": "display_data"
    }
   ],
   "source": [
    "plt.figure(figsize=(10,10))\n",
    "\n",
    "# Para resolver este punto, define dos variables x, y.\n",
    "# Cada variable debe estar igualada a una consulta:\n",
    "#   x = data[...]\n",
    "#   y = data[...]\n",
    "\n",
    "# Además, define una variable 'forma'.\n",
    "# Esta variable debe estar igualada a un String.\n",
    "# Por ejemplo, para que los marcadores tengan forma de punto:\n",
    "#   forma = '.'\n",
    "\n",
    "# Escribe tu código aquí\n",
    "x = data['energy']\n",
    "y = data['loudness']\n",
    "forma = '*'\n",
    "\n",
    "plt.plot(x,y,forma, color='blue')\n",
    "plt.title('Energía vs Volumen')\n",
    "plt.xlabel('Energía')\n",
    "plt.ylabel('Volumen')\n",
    "plt.show()"
   ]
  },
  {
   "cell_type": "code",
   "execution_count": 61,
   "metadata": {
    "deletable": false,
    "editable": false,
    "nbgrader": {
     "cell_type": "code",
     "checksum": "24f29537c3232f02fcb4af9f34446c7e",
     "grade": true,
     "grade_id": "E43-tests",
     "locked": true,
     "points": 1,
     "schema_version": 3,
     "solution": false,
     "task": false
    }
   },
   "outputs": [
    {
     "name": "stdout",
     "output_type": "stream",
     "text": [
      "¡Las dimensiones de las variables y el tipo del argumento son correctas!\n"
     ]
    }
   ],
   "source": [
    "#---------- Celda de Pruebas ----------\n",
    "# El resultado tiene tres variables que existen\n",
    "# Las variables \"x\", \"y\" tienen dimensiones correctas\n",
    "# La variable \"forma\" es un String\n",
    "#--------------------------------------\n",
    "\n",
    "# Se verifica que las variables están definidas\n",
    "assert x is not None, \"Asegúrate de definir la variable correctamente.\"\n",
    "assert y is not None, \"Asegúrate de definir la variable correctamente.\"\n",
    "assert forma is not None, \"Asegúrate de definir la variable correctamente.\"\n",
    "\n",
    "# Se evalúan las dimensiones de la variable X\n",
    "assert x.shape == (18835,), \"El eje x corresponde a la variable \\'energy\\'. Puedes usar loc, iloc, o consultar directamente.\"\n",
    "\n",
    "# Se evalúan las dimensiones de la variable Y\n",
    "assert y.shape == (18835,), \"El eje y corresponde a la variable \\'loudness\\'. Puedes usar loc, iloc, o consultar directamente.\"\n",
    "\n",
    "# Se evalúa el tipo de la variable forma\n",
    "assert type(forma) == str, \"Recuerda que este argumento describe la forma de los marcadores usando un caracter. Revisa la documentación de Matplotlib: https://matplotlib.org/stable/api/_as_gen/matplotlib.pyplot.plot.html\"\n",
    "print(\"¡Las dimensiones de las variables y el tipo del argumento son correctas!\")"
   ]
  },
  {
   "cell_type": "markdown",
   "metadata": {
    "deletable": false,
    "editable": false,
    "nbgrader": {
     "cell_type": "markdown",
     "checksum": "76f9cfcf9e7182d71e94d4a22a5a488c",
     "grade": false,
     "grade_id": "cell-6b217e605df903ba",
     "locked": true,
     "schema_version": 3,
     "solution": false,
     "task": false
    }
   },
   "source": [
    "## Cierre \n",
    "\n",
    "Al desarrollar los ejercicios de este taller, has practicado tus habilidades para cargar, analizar y consultar un conjunto de datos en Python. Además, lograste crear algunas visualizaciones básicas que te serán de ayuda en el análisis de tus datos para, en un futuro, crear modelos de aprendizaje automático a partir de ellos.\n",
    "\n",
    "---\n",
    "\n",
    "*Creado por: Nicolás Díaz*\n",
    "\n",
    "*Última edición: Camilo Rozo*\n",
    "\n",
    "*Revisado por: Haydemar Nuñez*\n",
    "\n",
    "*Versión de: Enero 20, 2025*\n",
    "\n",
    "*Universidad de los Andes*  "
   ]
  }
 ],
 "metadata": {
  "kernelspec": {
   "display_name": ".venv",
   "language": "python",
   "name": "python3"
  },
  "language_info": {
   "codemirror_mode": {
    "name": "ipython",
    "version": 3
   },
   "file_extension": ".py",
   "mimetype": "text/x-python",
   "name": "python",
   "nbconvert_exporter": "python",
   "pygments_lexer": "ipython3",
   "version": "3.9.6"
  }
 },
 "nbformat": 4,
 "nbformat_minor": 4
}
